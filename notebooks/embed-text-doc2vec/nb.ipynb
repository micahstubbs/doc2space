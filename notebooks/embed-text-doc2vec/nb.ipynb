{
 "cells": [
  {
   "cell_type": "markdown",
   "metadata": {},
   "source": [
    "# embed-text-doc2vec"
   ]
  },
  {
   "cell_type": "markdown",
   "metadata": {},
   "source": [
    "based on https://medium.com/@mishra.thedeepak/doc2vec-simple-implementation-example-df2afbbfbad5"
   ]
  },
  {
   "cell_type": "markdown",
   "metadata": {},
   "source": [
    "first, let's install some dependencies. a guide to doing this: https://jakevdp.github.io/blog/2017/12/05/installing-python-packages-from-jupyter/"
   ]
  },
  {
   "cell_type": "code",
   "execution_count": 1,
   "metadata": {},
   "outputs": [
    {
     "name": "stdout",
     "output_type": "stream",
     "text": [
      "Fetching package metadata .........\n",
      "Solving package specifications: .\n",
      "\n",
      "# All requested packages already installed.\n",
      "# packages in environment at /Users/m/anaconda3/envs/d2s:\n",
      "#\n",
      "gensim                    2.3.0               np113py36_0  \n",
      "nltk                      3.2.4                    py36_0  \n"
     ]
    }
   ],
   "source": [
    "# Install a conda package in the current Jupyter kernel\n",
    "import sys\n",
    "!conda install --yes --prefix {sys.prefix} gensim nltk"
   ]
  },
  {
   "cell_type": "code",
   "execution_count": 2,
   "metadata": {},
   "outputs": [],
   "source": [
    "#Import all the dependencies\n",
    "from gensim.models.doc2vec import Doc2Vec, TaggedDocument\n",
    "from nltk.tokenize import word_tokenize"
   ]
  },
  {
   "cell_type": "markdown",
   "metadata": {},
   "source": [
    "Let’s prepare data for training our doc2vec model"
   ]
  },
  {
   "cell_type": "code",
   "execution_count": 3,
   "metadata": {},
   "outputs": [],
   "source": [
    "data_dir = '../../data/'\n",
    "\n",
    "# our list of documents\n",
    "data = []"
   ]
  },
  {
   "cell_type": "code",
   "execution_count": 4,
   "metadata": {},
   "outputs": [
    {
     "name": "stdout",
     "output_type": "stream",
     "text": [
      "141\n"
     ]
    }
   ],
   "source": [
    "import glob\n",
    "txt_files = glob.glob(f\"{data_dir}/*.txt\")\n",
    "print(len(txt_files))"
   ]
  },
  {
   "cell_type": "code",
   "execution_count": 5,
   "metadata": {},
   "outputs": [
    {
     "data": {
      "text/plain": [
       "'Trieu et al. - 2017 - News Classification from Social Media Using Twitte.txt'"
      ]
     },
     "execution_count": 5,
     "metadata": {},
     "output_type": "execute_result"
    }
   ],
   "source": [
    "# should an example of just the filename without the path\n",
    "txt_files[0][11:]"
   ]
  },
  {
   "cell_type": "code",
   "execution_count": 6,
   "metadata": {},
   "outputs": [
    {
     "name": "stdout",
     "output_type": "stream",
     "text": [
      "141\n"
     ]
    }
   ],
   "source": [
    "for file in txt_files:\n",
    "    with open(file, 'r', encoding=\"utf-8\") as file:\n",
    "        currentText = file.read()\n",
    "        data.append(currentText)\n",
    "        file.close()\n",
    "\n",
    "print(len(data))"
   ]
  },
  {
   "cell_type": "code",
   "execution_count": 7,
   "metadata": {},
   "outputs": [
    {
     "name": "stdout",
     "output_type": "stream",
     "text": [
      "t-SNE-CUDA: GPU-Accelerated t-SNE and its\n",
      "Applications to Modern Data\n",
      "David M. Chan†∗ , Roshan Rao†‡ , Forrest Huang†§ and John F. Canny¶\n",
      "\n",
      "arXiv:1807.11824v1 [cs.LG] 31 Jul 2018\n",
      "\n",
      "EECS Department, University of California, Berkeley\n",
      "Berkeley, CA, USA\n",
      "Email: ∗ davidchan@berkeley.edu, ‡ roshan rao@berkeley.edu, § forrest huang@berkeley.edu, ¶ canny@berkeley.edu\n",
      "\n",
      "Abstract—Modern datasets and models are notoriously difficult\n",
      "to explore and analyze due to their inherent high dimensionality and massive numbers of samples. Existing visualization\n",
      "methods which employ dimensionality reduction to two or three\n",
      "dimensions are often inefficient and/or ineffective for these\n",
      "datasets. This paper introduces t-SNE-CUDA, a GPU-accelerated\n",
      "implementation of t-distributed Symmetric Neighbour Embedding (t-SNE) for visualizing datasets and models. t-SNE-CUDA\n",
      "significantly outperforms current implementations with 50-700x\n",
      "speedups on the CIFAR-10 and MNIST datasets. These speedups\n",
      "enable, for the first time, vi\n"
     ]
    }
   ],
   "source": [
    "from random import randrange\n",
    "random_index = randrange(len(data)-1)\n",
    "\n",
    "# print the first 1000 characters of a random document from our corpus\n",
    "print(data[random_index][0:1000])"
   ]
  },
  {
   "cell_type": "code",
   "execution_count": 7,
   "metadata": {},
   "outputs": [],
   "source": [
    "tagged_data = [TaggedDocument(words=word_tokenize(_d.lower()), \n",
    "    tags=[str(i)]) for i, _d in enumerate(data)]"
   ]
  },
  {
   "cell_type": "markdown",
   "metadata": {},
   "source": [
    "Here we have a list of four sentences as training data. Now I have tagged the data and its ready for training. Lets start training our model."
   ]
  },
  {
   "cell_type": "code",
   "execution_count": 8,
   "metadata": {},
   "outputs": [],
   "source": [
    "max_epochs = 100\n",
    "vec_size = 20\n",
    "alpha = 0.025\n",
    "model = Doc2Vec(size=vec_size,\n",
    "                alpha=alpha,\n",
    "                min_alpha=0.00025,\n",
    "                min_count=1,\n",
    "                dm=1)"
   ]
  },
  {
   "cell_type": "code",
   "execution_count": 9,
   "metadata": {},
   "outputs": [],
   "source": [
    "model.build_vocab(tagged_data)"
   ]
  },
  {
   "cell_type": "code",
   "execution_count": 10,
   "metadata": {},
   "outputs": [
    {
     "name": "stdout",
     "output_type": "stream",
     "text": [
      "iteration 0\n",
      "iteration 1\n",
      "iteration 2\n",
      "iteration 3\n",
      "iteration 4\n",
      "iteration 5\n",
      "iteration 6\n",
      "iteration 7\n",
      "iteration 8\n",
      "iteration 9\n",
      "iteration 10\n",
      "iteration 11\n",
      "iteration 12\n",
      "iteration 13\n",
      "iteration 14\n",
      "iteration 15\n",
      "iteration 16\n",
      "iteration 17\n",
      "iteration 18\n",
      "iteration 19\n",
      "iteration 20\n",
      "iteration 21\n",
      "iteration 22\n",
      "iteration 23\n",
      "iteration 24\n",
      "iteration 25\n",
      "iteration 26\n",
      "iteration 27\n",
      "iteration 28\n",
      "iteration 29\n",
      "iteration 30\n",
      "iteration 31\n",
      "iteration 32\n",
      "iteration 33\n",
      "iteration 34\n",
      "iteration 35\n",
      "iteration 36\n",
      "iteration 37\n",
      "iteration 38\n",
      "iteration 39\n",
      "iteration 40\n",
      "iteration 41\n",
      "iteration 42\n",
      "iteration 43\n",
      "iteration 44\n",
      "iteration 45\n",
      "iteration 46\n",
      "iteration 47\n",
      "iteration 48\n",
      "iteration 49\n",
      "iteration 50\n",
      "iteration 51\n",
      "iteration 52\n",
      "iteration 53\n",
      "iteration 54\n",
      "iteration 55\n",
      "iteration 56\n",
      "iteration 57\n",
      "iteration 58\n",
      "iteration 59\n",
      "iteration 60\n",
      "iteration 61\n",
      "iteration 62\n",
      "iteration 63\n",
      "iteration 64\n",
      "iteration 65\n",
      "iteration 66\n",
      "iteration 67\n",
      "iteration 68\n",
      "iteration 69\n",
      "iteration 70\n",
      "iteration 71\n",
      "iteration 72\n",
      "iteration 73\n",
      "iteration 74\n",
      "iteration 75\n",
      "iteration 76\n",
      "iteration 77\n",
      "iteration 78\n",
      "iteration 79\n",
      "iteration 80\n",
      "iteration 81\n",
      "iteration 82\n",
      "iteration 83\n",
      "iteration 84\n",
      "iteration 85\n",
      "iteration 86\n",
      "iteration 87\n",
      "iteration 88\n",
      "iteration 89\n",
      "iteration 90\n",
      "iteration 91\n",
      "iteration 92\n",
      "iteration 93\n",
      "iteration 94\n",
      "iteration 95\n",
      "iteration 96\n",
      "iteration 97\n",
      "iteration 98\n",
      "iteration 99\n",
      "Model d2v.model Saved\n"
     ]
    }
   ],
   "source": [
    "for epoch in range(max_epochs):\n",
    "    print ('iteration {0}'.format(epoch))\n",
    "    model.train(tagged_data,\n",
    "                total_examples=model.corpus_count,\n",
    "                epochs=model.iter)\n",
    "    # decrease the learning rate\n",
    "    model.alpha -= 0.002\n",
    "    # fix the learning rate, no decay\n",
    "    model.min_alpha = model.alpha\n",
    "    \n",
    "model.save(\"d2v.model\")\n",
    "print(\"Model d2v.model Saved\")"
   ]
  },
  {
   "cell_type": "markdown",
   "metadata": {},
   "source": [
    "Note: dm defines the training algorithm. If dm=1 means ‘distributed memory’ (PV-DM) and dm =0 means ‘distributed bag of words’ (PV-DBOW). Distributed Memory model preserves the word order in a document whereas Distributed Bag of words just uses the bag of words approach, which doesn’t preserve any word order.\n",
    "\n",
    "So we have saved the model and it’s ready for implementation. Lets play with it."
   ]
  },
  {
   "cell_type": "code",
   "execution_count": 8,
   "metadata": {},
   "outputs": [
    {
     "name": "stdout",
     "output_type": "stream",
     "text": [
      "V1_infer [-0.06320606  0.13354899 -0.00905937 -0.15052865 -0.0656832  -0.08900937\n",
      " -0.03807721  0.06431425 -0.03522163 -0.00434883  0.17990938 -0.17053865\n",
      "  0.12665445  0.00974187 -0.04312205 -0.05760925 -0.0033351   0.15536761\n",
      " -0.0203139  -0.02130702]\n"
     ]
    }
   ],
   "source": [
    "from gensim.models.doc2vec import Doc2Vec\n",
    "\n",
    "model= Doc2Vec.load(\"d2v.model\")\n",
    "\n",
    "#to find the vector of a document which is not in the training data\n",
    "test_data = word_tokenize(\"I love chatbots\".lower())\n",
    "v1 = model.infer_vector(test_data)\n",
    "print(\"V1_infer\", v1)\n",
    "\n",
    "\n"
   ]
  },
  {
   "cell_type": "code",
   "execution_count": 9,
   "metadata": {},
   "outputs": [
    {
     "name": "stdout",
     "output_type": "stream",
     "text": [
      "[('70', 0.9870254397392273), ('84', 0.9709815979003906), ('7', 0.96864914894104), ('94', 0.960952639579773), ('72', 0.9577339291572571), ('14', 0.9566090106964111), ('18', 0.953985333442688), ('82', 0.9523268938064575), ('97', 0.9513706564903259), ('0', 0.9446595907211304)]\n"
     ]
    }
   ],
   "source": [
    "# to find most similar doc using tags\n",
    "similar_doc = model.docvecs.most_similar('1')\n",
    "print(similar_doc)"
   ]
  },
  {
   "cell_type": "code",
   "execution_count": 10,
   "metadata": {},
   "outputs": [
    {
     "name": "stdout",
     "output_type": "stream",
     "text": [
      "[ -9.342972  -17.231485  -16.349152   17.070536    8.355379   -3.7523832\n",
      "  13.2250395 -11.772013    6.22972    11.040406  -12.797823   -1.3005092\n",
      " -17.47004    -5.203946    4.065793   -2.5147984   5.3141646 -10.981502\n",
      "  16.272821   -1.7505883]\n"
     ]
    }
   ],
   "source": [
    "# to find vector of doc in training data using tags\n",
    "# or in other words printing the vector of the document \n",
    "# at index 1 in the training data\n",
    "print(model.docvecs['1'])"
   ]
  },
  {
   "cell_type": "code",
   "execution_count": 11,
   "metadata": {},
   "outputs": [
    {
     "name": "stdout",
     "output_type": "stream",
     "text": [
      "20\n"
     ]
    }
   ],
   "source": [
    "# how many dimensions does our doc2vec document space have?\n",
    "dimensions = len(model.docvecs['1'])\n",
    "print(dimensions)"
   ]
  },
  {
   "cell_type": "markdown",
   "metadata": {},
   "source": [
    "Cool! This dimensionality is determined by the `vec_size` parameter we specified at training time."
   ]
  },
  {
   "cell_type": "code",
   "execution_count": 12,
   "metadata": {},
   "outputs": [
    {
     "name": "stdout",
     "output_type": "stream",
     "text": [
      "['doc', 'v0', 'v1', 'v2', 'v3', 'v4', 'v5', 'v6', 'v7', 'v8', 'v9', 'v10', 'v11', 'v12', 'v13', 'v14', 'v15', 'v16', 'v17', 'v18', 'v19']\n"
     ]
    }
   ],
   "source": [
    "# create column headers for csv file\n",
    "headers = ['doc']\n",
    "i = 0\n",
    "while i < dimensions:\n",
    "    headers.append(f\"v{i}\")\n",
    "    i+=1\n",
    "    \n",
    "print(headers)"
   ]
  },
  {
   "cell_type": "code",
   "execution_count": 13,
   "metadata": {},
   "outputs": [],
   "source": [
    "# retrieve vectors of all documents in training data\n",
    "# write vectors to a csv file\n",
    "import csv\n",
    "\n",
    "with open('document-vectors.csv', 'w', newline='', encoding='utf-8') as csvfile:\n",
    "    writer = csv.writer(csvfile, delimiter=',', quotechar='\"')\n",
    "    writer.writerow(headers)\n",
    "    \n",
    "    index_count = len(data)-1\n",
    "    i = 0\n",
    "    while i <= index_count:\n",
    "        doc_name = txt_files[i][11:]\n",
    "        vec = list(model.docvecs[i])\n",
    "        row = [doc_name] + vec\n",
    "        writer.writerow(row)\n",
    "        i += 1\n"
   ]
  },
  {
   "cell_type": "code",
   "execution_count": 14,
   "metadata": {},
   "outputs": [
    {
     "name": "stdout",
     "output_type": "stream",
     "text": [
      "[['doc', 'v0', 'v1', 'v2', 'v3', 'v4', 'v5', 'v6', 'v7', 'v8', 'v9', 'v10', 'v11', 'v12', 'v13', 'v14', 'v15', 'v16', 'v17', 'v18', 'v19'], ['Trieu et al. - 2017 - News Classification from Social Media Using Twitte.txt', '-13.4145975', '-18.038366', '-19.62516', '18.35972', '11.599665', '2.9987159', '10.919366', '-17.313543', '14.515337', '11.669583', '-22.579699', '2.5911036', '-25.282722', '-3.9854567', '6.8831143', '-7.8187785', '-1.4719993', '-6.839098', '15.382307', '-3.3383198']]\n"
     ]
    }
   ],
   "source": [
    "# read vectors in from csv file\n",
    "import csv\n",
    "\n",
    "imported_vectors = []\n",
    "\n",
    "with open('document-vectors.csv', newline='') as csvfile:\n",
    "    reader = csv.reader(csvfile, delimiter=',', quotechar='\"')\n",
    "    for row in reader:\n",
    "        imported_vectors.append(row)\n",
    "        \n",
    "print(imported_vectors[0:2])"
   ]
  },
  {
   "cell_type": "code",
   "execution_count": 19,
   "metadata": {},
   "outputs": [],
   "source": [
    "# project from 20D to 2D with t-SNE\n",
    "from __future__ import print_function\n",
    "import time\n",
    "import numpy as np\n",
    "import pandas as pd\n",
    "from sklearn.datasets import fetch_openml\n",
    "from sklearn.decomposition import PCA\n",
    "from sklearn.manifold import TSNE\n",
    "%matplotlib inline\n",
    "import matplotlib.pyplot as plt\n",
    "from mpl_toolkits.mplot3d import Axes3D\n",
    "import seaborn as sns"
   ]
  },
  {
   "cell_type": "code",
   "execution_count": 20,
   "metadata": {},
   "outputs": [
    {
     "data": {
      "text/plain": [
       "<gensim.models.doc2vec.DocvecsArray at 0x12b87def0>"
      ]
     },
     "execution_count": 20,
     "metadata": {},
     "output_type": "execute_result"
    }
   ],
   "source": [
    "model.docvecs"
   ]
  },
  {
   "cell_type": "code",
   "execution_count": 21,
   "metadata": {},
   "outputs": [
    {
     "name": "stdout",
     "output_type": "stream",
     "text": [
      "Size of the dataframe: (141, 22)\n"
     ]
    }
   ],
   "source": [
    "df = pd.DataFrame(list(model.docvecs))\n",
    "\n",
    "def stripPath(file):\n",
    "    return file[11:]\n",
    "\n",
    "# list(map(stripPath, txt_files))\n",
    "\n",
    "# y is supposed to be some ground truth categories. got it. \n",
    "df['y'] = list(range(0,len(list(model.docvecs))))\n",
    "df['label'] = df['y'].apply(lambda i: str(i))\n",
    "\n",
    "# X, y = None, None\n",
    "\n",
    "print('Size of the dataframe: {}'.format(df.shape))"
   ]
  },
  {
   "cell_type": "code",
   "execution_count": 22,
   "metadata": {},
   "outputs": [],
   "source": [
    "# For reproducibility of the results\n",
    "np.random.seed(42)\n",
    "\n",
    "rndperm = np.random.permutation(df.shape[0])"
   ]
  },
  {
   "cell_type": "code",
   "execution_count": 23,
   "metadata": {},
   "outputs": [
    {
     "name": "stdout",
     "output_type": "stream",
     "text": [
      "[t-SNE] Computing 121 nearest neighbors...\n",
      "[t-SNE] Indexed 141 samples in 0.000s...\n",
      "[t-SNE] Computed neighbors for 141 samples in 0.003s...\n",
      "[t-SNE] Computed conditional probabilities for sample 141 / 141\n",
      "[t-SNE] Mean sigma: 26.328567\n",
      "[t-SNE] KL divergence after 250 iterations with early exaggeration: 51.034737\n",
      "[t-SNE] KL divergence after 300 iterations: 0.137496\n",
      "t-SNE done! Time elapsed: 0.24083900451660156 seconds\n"
     ]
    }
   ],
   "source": [
    "time_start = time.time()\n",
    "tsne = TSNE(n_components=2, verbose=1, perplexity=40, n_iter=300)\n",
    "tsne_results = tsne.fit_transform(df)\n",
    "print('t-SNE done! Time elapsed: {} seconds'.format(time.time()-time_start))"
   ]
  },
  {
   "cell_type": "code",
   "execution_count": 39,
   "metadata": {},
   "outputs": [
    {
     "name": "stdout",
     "output_type": "stream",
     "text": [
      "[[  9.208676  -11.6980915]\n",
      " [  9.343998  -12.600469 ]\n",
      " [  8.179732  -13.854516 ]\n",
      " [  8.435254  -13.312654 ]\n",
      " [  8.868621  -13.313231 ]\n",
      " [  8.369935  -12.56009  ]\n",
      " [  8.606954  -12.832229 ]\n",
      " [  8.68038   -12.203191 ]\n",
      " [  7.6478868 -13.404402 ]\n",
      " [  8.20842   -12.158315 ]]\n"
     ]
    }
   ],
   "source": [
    "print(tsne_results[:10])"
   ]
  },
  {
   "cell_type": "code",
   "execution_count": 50,
   "metadata": {},
   "outputs": [
    {
     "data": {
      "text/plain": [
       "<matplotlib.axes._subplots.AxesSubplot at 0x12ac71320>"
      ]
     },
     "execution_count": 50,
     "metadata": {},
     "output_type": "execute_result"
    },
    {
     "data": {
      "image/png": "[encoded data removed]",
      "text/plain": [
       "<Figure size 1152x720 with 1 Axes>"
      ]
     },
     "metadata": {
      "needs_background": "light"
     },
     "output_type": "display_data"
    }
   ],
   "source": [
    "# visualize t-SNE projection\n",
    "results = df.copy()\n",
    "\n",
    "results['tsne-2d-one'] = tsne_results[:,0]\n",
    "results['tsne-2d-two'] = tsne_results[:,1]\n",
    "\n",
    "plt.figure(figsize=(16,10))\n",
    "sns.scatterplot(\n",
    "    x=\"tsne-2d-one\", y=\"tsne-2d-two\",\n",
    "#     hue=\"y\",\n",
    "    palette=sns.color_palette(\"hls\", 141),\n",
    "    data=results,\n",
    "    legend=\"full\",\n",
    "    alpha=0.3\n",
    ")"
   ]
  },
  {
   "cell_type": "code",
   "execution_count": 41,
   "metadata": {},
   "outputs": [
    {
     "name": "stdout",
     "output_type": "stream",
     "text": [
      "   tsne-2d-one  tsne-2d-two\n",
      "0     9.208676   -11.698092\n",
      "1     9.343998   -12.600469\n",
      "2     8.179732   -13.854516\n",
      "3     8.435254   -13.312654\n",
      "4     8.868621   -13.313231\n"
     ]
    }
   ],
   "source": [
    "print(results[:5])"
   ]
  },
  {
   "cell_type": "code",
   "execution_count": 42,
   "metadata": {},
   "outputs": [
    {
     "name": "stdout",
     "output_type": "stream",
     "text": [
      "0     -11.698092\n",
      "1     -12.600469\n",
      "2     -13.854516\n",
      "3     -13.312654\n",
      "4     -13.313231\n",
      "5     -12.560090\n",
      "6     -12.832229\n",
      "7     -12.203191\n",
      "8     -13.404402\n",
      "9     -12.158315\n",
      "10    -13.209826\n",
      "11    -18.255388\n",
      "12    -12.091658\n",
      "13    -11.342064\n",
      "14    -11.251648\n",
      "15    -12.651143\n",
      "16    -10.507952\n",
      "17    -11.027730\n",
      "18    -12.273232\n",
      "19    -11.282352\n",
      "20    -12.611167\n",
      "21    -11.444079\n",
      "22    -12.962334\n",
      "23    -12.044691\n",
      "24    -11.603149\n",
      "25    -12.338126\n",
      "26    -10.650563\n",
      "27    -11.361778\n",
      "28    -11.663936\n",
      "29     -9.897057\n",
      "         ...    \n",
      "111     5.336029\n",
      "112     5.865143\n",
      "113     6.393417\n",
      "114     6.057702\n",
      "115     6.038723\n",
      "116     6.474629\n",
      "117     6.867661\n",
      "118     6.070705\n",
      "119     6.843875\n",
      "120     7.027545\n",
      "121     7.460235\n",
      "122     7.668581\n",
      "123     7.418258\n",
      "124     7.783408\n",
      "125     7.812244\n",
      "126     7.648186\n",
      "127     7.906871\n",
      "128     7.115148\n",
      "129     8.493107\n",
      "130     8.407976\n",
      "131     8.363659\n",
      "132     8.210172\n",
      "133     8.425107\n",
      "134     8.784911\n",
      "135     8.984237\n",
      "136     9.175890\n",
      "137     8.970324\n",
      "138     9.460143\n",
      "139     9.357055\n",
      "140     9.499155\n",
      "Name: tsne-2d-two, Length: 141, dtype: float32\n"
     ]
    }
   ],
   "source": [
    "print(results['tsne-2d-two'])"
   ]
  },
  {
   "cell_type": "code",
   "execution_count": 46,
   "metadata": {},
   "outputs": [
    {
     "name": "stdout",
     "output_type": "stream",
     "text": [
      "0        0\n",
      "1        1\n",
      "2        2\n",
      "3        3\n",
      "4        4\n",
      "5        5\n",
      "6        6\n",
      "7        7\n",
      "8        8\n",
      "9        9\n",
      "10      10\n",
      "11      11\n",
      "12      12\n",
      "13      13\n",
      "14      14\n",
      "15      15\n",
      "16      16\n",
      "17      17\n",
      "18      18\n",
      "19      19\n",
      "20      20\n",
      "21      21\n",
      "22      22\n",
      "23      23\n",
      "24      24\n",
      "25      25\n",
      "26      26\n",
      "27      27\n",
      "28      28\n",
      "29      29\n",
      "      ... \n",
      "111    111\n",
      "112    112\n",
      "113    113\n",
      "114    114\n",
      "115    115\n",
      "116    116\n",
      "117    117\n",
      "118    118\n",
      "119    119\n",
      "120    120\n",
      "121    121\n",
      "122    122\n",
      "123    123\n",
      "124    124\n",
      "125    125\n",
      "126    126\n",
      "127    127\n",
      "128    128\n",
      "129    129\n",
      "130    130\n",
      "131    131\n",
      "132    132\n",
      "133    133\n",
      "134    134\n",
      "135    135\n",
      "136    136\n",
      "137    137\n",
      "138    138\n",
      "139    139\n",
      "140    140\n",
      "Name: y, Length: 141, dtype: int64\n"
     ]
    }
   ],
   "source": [
    "print(df['y'])"
   ]
  },
  {
   "cell_type": "code",
   "execution_count": 25,
   "metadata": {},
   "outputs": [],
   "source": [
    "# project from 20D to 2D with UMAP"
   ]
  },
  {
   "cell_type": "code",
   "execution_count": 33,
   "metadata": {},
   "outputs": [],
   "source": [
    "# visualize UMAP projection"
   ]
  }
 ],
 "metadata": {
  "kernelspec": {
   "display_name": "Python 3",
   "language": "python",
   "name": "python3"
  },
  "language_info": {
   "codemirror_mode": {
    "name": "ipython",
    "version": 3
   },
   "file_extension": ".py",
   "mimetype": "text/x-python",
   "name": "python",
   "nbconvert_exporter": "python",
   "pygments_lexer": "ipython3",
   "version": "3.6.2"
  }
 },
 "nbformat": 4,
 "nbformat_minor": 4
}
